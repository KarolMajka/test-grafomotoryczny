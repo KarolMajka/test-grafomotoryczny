{
 "cells": [
  {
   "cell_type": "code",
   "execution_count": 1,
   "metadata": {
    "collapsed": false
   },
   "outputs": [],
   "source": [
    "import numpy\n",
    "import os\n",
    "from struct import unpack\n",
    "import matplotlib.pyplot as plt\n",
    "import numpy as np\n",
    "import colorsys\n",
    "from matplotlib.widgets import Slider, Button, RadioButtons"
   ]
  },
  {
   "cell_type": "code",
   "execution_count": 2,
   "metadata": {
    "collapsed": false
   },
   "outputs": [],
   "source": [
    "def loadMtbFileStructure(fileName):\n",
    "    f = open(fileName, \"rb\")\n",
    "    try:\n",
    "        fileNameLenghtBytes = f.read(4)  \n",
    "        fileNameLenghtNode = unpack('i', fileNameLenghtBytes)\n",
    "        fileNameLenght = sum(fileNameLenghtNode)\n",
    "        fileName = loadFileNameStructure(f.read(fileNameLenght).decode(\"utf-8\"))\n",
    "\n",
    "        dateLenghtBytes = f.read(4)\n",
    "        dateLenghtNode = unpack('i', dateLenghtBytes)\n",
    "        dateLenght = sum(dateLenghtNode)\n",
    "        date = f.read(dateLenght).decode(\"utf-8\")\n",
    "        \n",
    "        notesLenghtBytes = f.read(4)\n",
    "        notesLenghtNode = unpack('i', notesLenghtBytes)\n",
    "        notesLenght = sum(notesLenghtNode)\n",
    "        notes = f.read(notesLenght).decode(\"utf-8\")\n",
    "        f.read(16)\n",
    "        \n",
    "        dataPacketsLenghtBytes = f.read(4)\n",
    "        dataPacketsLenghtNode = unpack('i', dataPacketsLenghtBytes)\n",
    "        dataPacketsLenght = sum(dataPacketsLenghtNode)\n",
    "        dataPackets = []\n",
    "        for i in range(0, dataPacketsLenght):\n",
    "            dataPacket = loadDataPacketStructure(f.read(24))\n",
    "            dataPackets.append(dataPacket)\n",
    "    finally:\n",
    "        f.close()\n",
    "    mtbFile = Mtb(fileName, date, notes, dataPackets)\n",
    "    return mtbFile\n",
    "\n",
    "def loadDataPacketStructure(dataPacketBytes):\n",
    "    momentPomiaru = sum(unpack('i', dataPacketBytes[0:4]))\n",
    "    polozenieX = sum(unpack('i', dataPacketBytes[4:8]))\n",
    "    polozenieY = sum(unpack('i', dataPacketBytes[8:12]))\n",
    "    nacisk = sum(unpack('i', dataPacketBytes[12:16]))\n",
    "    szerokoscKatowa = sum(unpack('i', dataPacketBytes[16:20]))\n",
    "    wysokoscKatowa = sum(unpack('i', dataPacketBytes[20:24]))\n",
    "    return PakietDanych(momentPomiaru, polozenieX, polozenieY, nacisk, szerokoscKatowa, wysokoscKatowa)\n",
    "    \n",
    "\n",
    "def loadFileNameStructure(fileNameString):\n",
    "    lp = fileNameString[:fileNameString.find('_', 0)]\n",
    "    tmp = fileNameString.find('_', len(lp)+1)\n",
    "    idPacjenta = fileNameString[len(lp)+1:tmp]\n",
    "    nrOperacji = fileNameString[tmp+1]\n",
    "    badanie = fileNameString[tmp+2]\n",
    "    plec = fileNameString[tmp+3]\n",
    "    reka = fileNameString[tmp+4]\n",
    "    polkula = fileNameString[tmp+5]\n",
    "    zabieg = fileNameString[tmp+6]\n",
    "    return NazwaPliku(lp, idPacjenta, nrOperacji, badanie, plec, reka, polkula, zabieg)"
   ]
  },
  {
   "cell_type": "code",
   "execution_count": 3,
   "metadata": {
    "collapsed": false
   },
   "outputs": [],
   "source": [
    "class PakietDanych(object):\n",
    "    momentPomiaru = 0.0\n",
    "    polozenieX = 0.0\n",
    "    polozenieY = 0.0\n",
    "    nacisk = 0.0\n",
    "    szerokoscKatowa = 0.0\n",
    "    wysokoscKatowa = 0.0\n",
    "    \n",
    "    def __init__(self, momentPomiaru, polozenieX, polozenieY, nacisk, szerokoscKatowa, wysokoscKatowa):\n",
    "        self.momentPomiaru = momentPomiaru\n",
    "        self.polozenieX = polozenieX\n",
    "        self.polozenieY = polozenieY\n",
    "        self.nacisk = nacisk\n",
    "        self.szerokoscKatowa = szerokoscKatowa\n",
    "        self.wysokoscKatowa = wysokoscKatowa\n",
    "        \n",
    "class NazwaPliku(object):\n",
    "    lp = -1\n",
    "    idPacjenta = -1\n",
    "    nrOperacji = -1\n",
    "    badanie = -1\n",
    "    plec = ''\n",
    "    reka = ''\n",
    "    polkula = ''\n",
    "    zabieg = ''\n",
    "    \n",
    "    def __init__(self, lp, idPacjenta, nrOperacji, badanie, plec, reka, polkula, zabieg):\n",
    "        self.lp = lp\n",
    "        self.idPacjenta = idPacjenta\n",
    "        self.nrOperacji = nrOperacji\n",
    "        self.badanie = badanie\n",
    "        self.plec = plec\n",
    "        self.reka = reka\n",
    "        self.polkula = polkula\n",
    "        self.zabieg = zabieg\n",
    "        \n",
    "class Mtb(object):\n",
    "    nazwaPliku = object\n",
    "    data = ''\n",
    "    notatki = ''\n",
    "    pakietyDanych = []    \n",
    "    def __init__(self, nazwaPliku, data, notatki, pakietyDanych):\n",
    "        self.nazwaPliku = nazwaPliku\n",
    "        self.data = data\n",
    "        self.notatki = notatki\n",
    "        self.pakietyDanych = pakietyDanych\n"
   ]
  },
  {
   "cell_type": "code",
   "execution_count": 4,
   "metadata": {
    "collapsed": false
   },
   "outputs": [],
   "source": [
    "def getAllMtbFilesFrom(folderName):\n",
    "    mtbFiles = []\n",
    "    for name in os.listdir(folderName):\n",
    "        if name.endswith('.mtb'):\n",
    "            mtbFile = loadMtbFileStructure(folderName + '/' + name)\n",
    "            mtbFiles.append(mtbFile)\n",
    "        elif os.path.isdir(folderName + '/' + name):\n",
    "            mtbFiles += getAllMtbFilesFrom(folderName + '/' + name)\n",
    "    return mtbFiles"
   ]
  },
  {
   "cell_type": "code",
   "execution_count": 5,
   "metadata": {
    "collapsed": true
   },
   "outputs": [],
   "source": [
    "def getColorForPlot(nacisk, minValue):\n",
    "    #0 - wysoki nacisk\n",
    "    #1/3 - niski nacisk\n",
    "    #value przyjmuje wartosci 0-1023 (0 - niski nacisk, 1023 - wysoki nacisk)\n",
    "    #Jeśli nacisk jest mniejszy niż minimalny dopuszczalny, to uznajemy, że nie rysował\n",
    "    \n",
    "    if minValue >= nacisk:\n",
    "        return colorsys.hsv_to_rgb(0.0, 0.0, 0.0)\n",
    "    nacisk /= 1024\n",
    "    nacisk = 1 - nacisk\n",
    "    nacisk /= 3\n",
    "    return colorsys.hsv_to_rgb(nacisk, 1.0, 1.0)"
   ]
  },
  {
   "cell_type": "code",
   "execution_count": 6,
   "metadata": {
    "collapsed": false
   },
   "outputs": [
    {
     "name": "stdout",
     "output_type": "stream",
     "text": [
      "[<__main__.Mtb object at 0x115298940>, <__main__.Mtb object at 0x115935cc0>, <__main__.Mtb object at 0x115cd8f28>, <__main__.Mtb object at 0x116b1d048>, <__main__.Mtb object at 0x1178a8cc0>, <__main__.Mtb object at 0x118d4dba8>, <__main__.Mtb object at 0x11a4fff60>, <__main__.Mtb object at 0x11ad7af28>, <__main__.Mtb object at 0x11b143860>, <__main__.Mtb object at 0x11bc0bac8>, <__main__.Mtb object at 0x11c9a5ef0>, <__main__.Mtb object at 0x11d0da1d0>, <__main__.Mtb object at 0x11daa6ba8>, <__main__.Mtb object at 0x11e010828>, <__main__.Mtb object at 0x11e583898>, <__main__.Mtb object at 0x11e899b00>]\n"
     ]
    }
   ],
   "source": [
    "mtbFiles = getAllMtbFilesFrom('./dane')#/33100000000 (M)\n",
    "print(mtbFiles)"
   ]
  },
  {
   "cell_type": "code",
   "execution_count": 7,
   "metadata": {
    "collapsed": false,
    "scrolled": false
   },
   "outputs": [],
   "source": [
    "#X, Y, nacisk kolory, X(bez usuwania nacisku), Y(bez usuwania nacisku), nacisk kolory, grubosc kolory\n",
    "plot = [[],[],[],[],[],[],[]]\n",
    "minimalnyNacisk = 64\n",
    "for i in range(0, len(mtbFiles)):\n",
    "    plot[0].append([])\n",
    "    plot[1].append([])\n",
    "    plot[2].append([])\n",
    "    plot[3].append([])\n",
    "    plot[4].append([])\n",
    "    plot[5].append([])\n",
    "    plot[6].append([])\n",
    "    for j in range(0, len(mtbFiles[i].pakietyDanych)):\n",
    "        if mtbFiles[i].pakietyDanych[j].nacisk > minimalnyNacisk:\n",
    "            plot[0][i].append(mtbFiles[i].pakietyDanych[j].polozenieX)\n",
    "            plot[1][i].append(mtbFiles[i].pakietyDanych[j].polozenieY)\n",
    "            plot[2][i].append(getColorForPlot(mtbFiles[i].pakietyDanych[j].nacisk, minimalnyNacisk))\n",
    "            plot[6][i].append(1)\n",
    "        else:\n",
    "            plot[6][i].append(0.1)\n",
    "        plot[3][i].append(mtbFiles[i].pakietyDanych[j].polozenieX)\n",
    "        plot[4][i].append(mtbFiles[i].pakietyDanych[j].polozenieY)\n",
    "        plot[5][i].append(getColorForPlot(mtbFiles[i].pakietyDanych[j].nacisk, minimalnyNacisk))"
   ]
  },
  {
   "cell_type": "code",
   "execution_count": 8,
   "metadata": {
    "collapsed": false,
    "scrolled": true
   },
   "outputs": [
    {
     "ename": "NameError",
     "evalue": "name 'matplotlib' is not defined",
     "output_type": "error",
     "traceback": [
      "\u001b[0;31m---------------------------------------------------------------------------\u001b[0m",
      "\u001b[0;31mNameError\u001b[0m                                 Traceback (most recent call last)",
      "\u001b[0;32m<ipython-input-8-4fa27cf238dd>\u001b[0m in \u001b[0;36m<module>\u001b[0;34m()\u001b[0m\n\u001b[1;32m      5\u001b[0m     \u001b[0;32melse\u001b[0m\u001b[0;34m:\u001b[0m\u001b[0;34m\u001b[0m\u001b[0m\n\u001b[1;32m      6\u001b[0m         \u001b[0mplt\u001b[0m\u001b[0;34m.\u001b[0m\u001b[0mscatter\u001b[0m\u001b[0;34m(\u001b[0m\u001b[0mplot\u001b[0m\u001b[0;34m[\u001b[0m\u001b[0;36m0\u001b[0m\u001b[0;34m]\u001b[0m\u001b[0;34m[\u001b[0m\u001b[0mi\u001b[0m\u001b[0;34m]\u001b[0m\u001b[0;34m,\u001b[0m \u001b[0mplot\u001b[0m\u001b[0;34m[\u001b[0m\u001b[0;36m1\u001b[0m\u001b[0;34m]\u001b[0m\u001b[0;34m[\u001b[0m\u001b[0mi\u001b[0m\u001b[0;34m]\u001b[0m\u001b[0;34m,\u001b[0m \u001b[0mc\u001b[0m\u001b[0;34m=\u001b[0m\u001b[0mplot\u001b[0m\u001b[0;34m[\u001b[0m\u001b[0;36m2\u001b[0m\u001b[0;34m]\u001b[0m\u001b[0;34m[\u001b[0m\u001b[0mi\u001b[0m\u001b[0;34m]\u001b[0m\u001b[0;34m,\u001b[0m \u001b[0ms\u001b[0m\u001b[0;34m=\u001b[0m\u001b[0mnp\u001b[0m\u001b[0;34m.\u001b[0m\u001b[0mlinspace\u001b[0m\u001b[0;34m(\u001b[0m\u001b[0;36m0.5\u001b[0m\u001b[0;34m,\u001b[0m \u001b[0;36m0.5\u001b[0m\u001b[0;34m,\u001b[0m \u001b[0mnum\u001b[0m\u001b[0;34m=\u001b[0m\u001b[0mlen\u001b[0m\u001b[0;34m(\u001b[0m\u001b[0mplot\u001b[0m\u001b[0;34m[\u001b[0m\u001b[0;36m3\u001b[0m\u001b[0;34m]\u001b[0m\u001b[0;34m[\u001b[0m\u001b[0mi\u001b[0m\u001b[0;34m]\u001b[0m\u001b[0;34m)\u001b[0m\u001b[0;34m)\u001b[0m\u001b[0;34m)\u001b[0m\u001b[0;34m\u001b[0m\u001b[0m\n\u001b[0;32m----> 7\u001b[0;31m     \u001b[0mmatplotlib\u001b[0m\u001b[0;34m.\u001b[0m\u001b[0mpyplot\u001b[0m\u001b[0;34m.\u001b[0m\u001b[0mshow\u001b[0m\u001b[0;34m(\u001b[0m\u001b[0;34m)\u001b[0m\u001b[0;34m\u001b[0m\u001b[0m\n\u001b[0m",
      "\u001b[0;31mNameError\u001b[0m: name 'matplotlib' is not defined"
     ]
    }
   ],
   "source": [
    "showAllLines = False\n",
    "for i in range(0, len(mtbFiles)):\n",
    "    if showAllLines:\n",
    "        plt.scatter(plot[3][i], plot[4][i], c=plot[5][i], s=plot[6][i])\n",
    "    else:\n",
    "        plt.scatter(plot[0][i], plot[1][i], c=plot[2][i], s=np.linspace(0.5, 0.5, num=len(plot[3][i])))\n",
    "    plt.show()"
   ]
  },
  {
   "cell_type": "code",
   "execution_count": null,
   "metadata": {
    "collapsed": true
   },
   "outputs": [],
   "source": []
  },
  {
   "cell_type": "code",
   "execution_count": null,
   "metadata": {
    "collapsed": true
   },
   "outputs": [],
   "source": []
  }
 ],
 "metadata": {
  "kernelspec": {
   "display_name": "Python 3",
   "language": "python",
   "name": "python3"
  },
  "language_info": {
   "codemirror_mode": {
    "name": "ipython",
    "version": 3
   },
   "file_extension": ".py",
   "mimetype": "text/x-python",
   "name": "python",
   "nbconvert_exporter": "python",
   "pygments_lexer": "ipython3",
   "version": "3.6.0"
  }
 },
 "nbformat": 4,
 "nbformat_minor": 2
}
