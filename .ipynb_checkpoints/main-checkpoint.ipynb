{
 "cells": [
  {
   "cell_type": "code",
   "execution_count": 6,
   "metadata": {
    "collapsed": false
   },
   "outputs": [],
   "source": [
    "import numpy\n",
    "import os\n",
    "from struct import unpack\n",
    "import matplotlib.pyplot"
   ]
  },
  {
   "cell_type": "code",
   "execution_count": 7,
   "metadata": {
    "collapsed": false
   },
   "outputs": [],
   "source": [
    "def loadMtbFileStructure(fileName):\n",
    "    f = open(fileName, \"rb\")\n",
    "    try:\n",
    "        fileNameLenghtBytes = f.read(4)  \n",
    "        fileNameLenghtNode = unpack('i', fileNameLenghtBytes)\n",
    "        fileNameLenght = sum(fileNameLenghtNode)\n",
    "        fileName = loadFileNameStructure(f.read(fileNameLenght).decode(\"utf-8\"))\n",
    "\n",
    "        dateLenghtBytes = f.read(4)\n",
    "        dateLenghtNode = unpack('i', dateLenghtBytes)\n",
    "        dateLenght = sum(dateLenghtNode)\n",
    "        date = f.read(dateLenght).decode(\"utf-8\")\n",
    "        \n",
    "        notesLenghtBytes = f.read(4)\n",
    "        notesLenghtNode = unpack('i', notesLenghtBytes)\n",
    "        notesLenght = sum(notesLenghtNode)\n",
    "        notes = f.read(notesLenght).decode(\"utf-8\")\n",
    "        f.read(16)\n",
    "        \n",
    "        dataPacketsLenghtBytes = f.read(4)\n",
    "        dataPacketsLenghtNode = unpack('i', dataPacketsLenghtBytes)\n",
    "        dataPacketsLenght = sum(dataPacketsLenghtNode)\n",
    "        dataPackets = []\n",
    "        for i in range(0, dataPacketsLenght):\n",
    "            dataPacket = loadDataPacketStructure(f.read(24))\n",
    "            dataPackets.append(dataPacket)\n",
    "    finally:\n",
    "        f.close()\n",
    "    mtbFile = Mtb(fileName, date, notes, dataPackets)\n",
    "    return mtbFile\n",
    "\n",
    "def loadDataPacketStructure(dataPacketBytes):\n",
    "    momentPomiaru = sum(unpack('i', dataPacketBytes[0:4]))\n",
    "    polozenieX = sum(unpack('i', dataPacketBytes[4:8]))\n",
    "    polozenieY = sum(unpack('i', dataPacketBytes[8:12]))\n",
    "    nacisk = sum(unpack('i', dataPacketBytes[12:16]))\n",
    "    szerokoscKatowa = sum(unpack('i', dataPacketBytes[16:20]))\n",
    "    wysokoscKatowa = sum(unpack('i', dataPacketBytes[20:24]))\n",
    "    return PakietDanych(momentPomiaru, polozenieX, polozenieY, nacisk, szerokoscKatowa, wysokoscKatowa)\n",
    "    \n",
    "\n",
    "def loadFileNameStructure(fileNameString):\n",
    "    lp = fileNameString[:fileNameString.find('_', 0)]\n",
    "    tmp = fileNameString.find('_', len(lp)+1)\n",
    "    idPacjenta = fileNameString[len(lp)+1:tmp]\n",
    "    nrOperacji = fileNameString[tmp+1]\n",
    "    badanie = fileNameString[tmp+2]\n",
    "    plec = fileNameString[tmp+3]\n",
    "    reka = fileNameString[tmp+4]\n",
    "    polkula = fileNameString[tmp+5]\n",
    "    zabieg = fileNameString[tmp+6]\n",
    "    return NazwaPliku(lp, idPacjenta, nrOperacji, badanie, plec, reka, polkula, zabieg)"
   ]
  },
  {
   "cell_type": "code",
   "execution_count": 8,
   "metadata": {
    "collapsed": false
   },
   "outputs": [],
   "source": [
    "class PakietDanych(object):\n",
    "    momentPomiaru = ''\n",
    "    polozenieX = ''\n",
    "    polozenieY = ''\n",
    "    nacisk = ''\n",
    "    szerokoscKatowa = ''\n",
    "    wysokoscKatowa = ''\n",
    "    \n",
    "    def __init__(self, momentPomiaru, polozenieX, polozenieY, nacisk, szerokoscKatowa, wysokoscKatowa):\n",
    "        self.momentPomiaru = momentPomiaru\n",
    "        self.polozenieX = polozenieX\n",
    "        self.polozenieY = polozenieY\n",
    "        self.nacisk = nacisk\n",
    "        self.szerokoscKatowa = szerokoscKatowa\n",
    "        self.wysokoscKatowa = wysokoscKatowa\n",
    "\n",
    "        \n",
    "class NazwaPliku(object):\n",
    "    lp = -1\n",
    "    idPacjenta = -1\n",
    "    nrOperacji = -1\n",
    "    badanie = -1\n",
    "    plec = ''\n",
    "    reka = ''\n",
    "    polkula = ''\n",
    "    zabieg = ''\n",
    "    \n",
    "    def __init__(self, lp, idPacjenta, nrOperacji, badanie, plec, reka, polkula, zabieg):\n",
    "        self.lp = lp\n",
    "        self.idPacjenta = idPacjenta\n",
    "        self.nrOperacji = nrOperacji\n",
    "        self.badanie = badanie\n",
    "        self.plec = plec\n",
    "        self.reka = reka\n",
    "        self.polkula = polkula\n",
    "        self.zabieg = zabieg\n",
    "\n",
    "        \n",
    "class Mtb(object):\n",
    "    nazwaPliku = object\n",
    "    data = ''\n",
    "    notatki = ''\n",
    "    pakietyDanych = []    \n",
    "    def __init__(self, nazwaPliku, data, notatki, pakietyDanych):\n",
    "        self.nazwaPliku = nazwaPliku\n",
    "        self.data = data\n",
    "        self.notatki = notatki\n",
    "        self.pakietyDanych = pakietyDanych"
   ]
  },
  {
   "cell_type": "code",
   "execution_count": 9,
   "metadata": {
    "collapsed": false
   },
   "outputs": [],
   "source": [
    "def getAllMtbFilesFrom(folderName):\n",
    "    mtbFiles = []\n",
    "    for name in os.listdir(folderName):\n",
    "        if name.endswith('.mtb'):\n",
    "            mtbFile = loadMtbFileStructure(folderName + '/' + name)\n",
    "            mtbFiles.append(mtbFile)\n",
    "        elif os.path.isdir(folderName + '/' + name):\n",
    "            mtbFiles += getAllMtbFilesFrom(folderName + '/' + name)\n",
    "    return mtbFiles"
   ]
  },
  {
   "cell_type": "code",
   "execution_count": 10,
   "metadata": {
    "collapsed": false
   },
   "outputs": [
    {
     "ename": "NameError",
     "evalue": "name 'getAllFilesFrom' is not defined",
     "output_type": "error",
     "traceback": [
      "\u001b[0;31m---------------------------------------------------------------------------\u001b[0m",
      "\u001b[0;31mNameError\u001b[0m                                 Traceback (most recent call last)",
      "\u001b[0;32m<ipython-input-10-4fb185b383c4>\u001b[0m in \u001b[0;36m<module>\u001b[0;34m()\u001b[0m\n\u001b[0;32m----> 1\u001b[0;31m \u001b[0mmtbFiles\u001b[0m \u001b[0;34m=\u001b[0m \u001b[0mgetAllFilesFrom\u001b[0m\u001b[0;34m(\u001b[0m\u001b[0;34m'./dane/'\u001b[0m\u001b[0;34m)\u001b[0m\u001b[0;34m\u001b[0m\u001b[0m\n\u001b[0m\u001b[1;32m      2\u001b[0m \u001b[0mprint\u001b[0m\u001b[0;34m(\u001b[0m\u001b[0mmtbFiles\u001b[0m\u001b[0;34m)\u001b[0m\u001b[0;34m\u001b[0m\u001b[0m\n",
      "\u001b[0;31mNameError\u001b[0m: name 'getAllFilesFrom' is not defined"
     ]
    }
   ],
   "source": [
    "mtbFiles = getAllMtbFilesFrom('./dane/')\n",
    "print(mtbFiles)"
   ]
  },
  {
   "cell_type": "code",
   "execution_count": 11,
   "metadata": {
    "collapsed": false
   },
   "outputs": [
    {
     "ename": "NameError",
     "evalue": "name 'mtbFiles' is not defined",
     "output_type": "error",
     "traceback": [
      "\u001b[0;31m---------------------------------------------------------------------------\u001b[0m",
      "\u001b[0;31mNameError\u001b[0m                                 Traceback (most recent call last)",
      "\u001b[0;32m<ipython-input-11-5f4b2a0a9d71>\u001b[0m in \u001b[0;36m<module>\u001b[0;34m()\u001b[0m\n\u001b[1;32m      1\u001b[0m \u001b[0mpolozeniaX\u001b[0m \u001b[0;34m=\u001b[0m \u001b[0;34m[\u001b[0m\u001b[0;34m]\u001b[0m\u001b[0;34m\u001b[0m\u001b[0m\n\u001b[1;32m      2\u001b[0m \u001b[0mpolozeniaY\u001b[0m \u001b[0;34m=\u001b[0m \u001b[0;34m[\u001b[0m\u001b[0;34m]\u001b[0m\u001b[0;34m\u001b[0m\u001b[0m\n\u001b[0;32m----> 3\u001b[0;31m \u001b[0;32mfor\u001b[0m \u001b[0mi\u001b[0m \u001b[0;32min\u001b[0m \u001b[0mrange\u001b[0m\u001b[0;34m(\u001b[0m\u001b[0;36m0\u001b[0m\u001b[0;34m,\u001b[0m \u001b[0mlen\u001b[0m\u001b[0;34m(\u001b[0m\u001b[0mmtbFiles\u001b[0m\u001b[0;34m)\u001b[0m\u001b[0;34m)\u001b[0m\u001b[0;34m:\u001b[0m\u001b[0;34m\u001b[0m\u001b[0m\n\u001b[0m\u001b[1;32m      4\u001b[0m     \u001b[0mpolozeniaX\u001b[0m\u001b[0;34m.\u001b[0m\u001b[0mappend\u001b[0m\u001b[0;34m(\u001b[0m\u001b[0;34m[\u001b[0m\u001b[0;34m]\u001b[0m\u001b[0;34m)\u001b[0m\u001b[0;34m\u001b[0m\u001b[0m\n\u001b[1;32m      5\u001b[0m     \u001b[0mpolozeniaY\u001b[0m\u001b[0;34m.\u001b[0m\u001b[0mappend\u001b[0m\u001b[0;34m(\u001b[0m\u001b[0;34m[\u001b[0m\u001b[0;34m]\u001b[0m\u001b[0;34m)\u001b[0m\u001b[0;34m\u001b[0m\u001b[0m\n",
      "\u001b[0;31mNameError\u001b[0m: name 'mtbFiles' is not defined"
     ]
    }
   ],
   "source": [
    "polozeniaX = []\n",
    "polozeniaY = []\n",
    "for i in range(0, len(mtbFiles)):\n",
    "    polozeniaX.append([])\n",
    "    polozeniaY.append([])\n",
    "    for j in range(0, len(mtbFiles[i].pakietyDanych)):\n",
    "        polozeniaX[i].append(mtbFiles[i].pakietyDanych[j].polozenieX)\n",
    "        polozeniaY[i].append(mtbFiles[i].pakietyDanych[j].polozenieY)\n",
    "    matplotlib.pyplot.plot(polozeniaX[i], polozeniaY[i])\n",
    "    matplotlib.pyplot.show()"
   ]
  },
  {
   "cell_type": "code",
   "execution_count": null,
   "metadata": {
    "collapsed": true
   },
   "outputs": [],
   "source": []
  }
 ],
 "metadata": {
  "kernelspec": {
   "display_name": "Python 3",
   "language": "python",
   "name": "python3"
  },
  "language_info": {
   "codemirror_mode": {
    "name": "ipython",
    "version": 3
   },
   "file_extension": ".py",
   "mimetype": "text/x-python",
   "name": "python",
   "nbconvert_exporter": "python",
   "pygments_lexer": "ipython3",
   "version": "3.6.0"
  }
 },
 "nbformat": 4,
 "nbformat_minor": 2
}
