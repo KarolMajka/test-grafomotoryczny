{
 "cells": [
  {
   "cell_type": "code",
   "execution_count": 1,
   "metadata": {
    "collapsed": false
   },
   "outputs": [],
   "source": [
    "import numpy\n",
    "import os\n",
    "from struct import unpack\n",
    "import matplotlib.pyplot as plt\n",
    "import numpy as np\n",
    "import colorsys\n",
    "from matplotlib.widgets import Slider, Button, RadioButtons\n",
    "from tkinter import *\n",
    "from ipywidgets import *\n",
    "from IPython.display import display"
   ]
  },
  {
   "cell_type": "code",
   "execution_count": 2,
   "metadata": {
    "collapsed": false
   },
   "outputs": [],
   "source": [
    "def loadMtbFileStructure(fileName):\n",
    "    f = open(fileName, \"rb\")\n",
    "    try:\n",
    "        fileNameLenghtBytes = f.read(4)  \n",
    "        fileNameLenghtNode = unpack('i', fileNameLenghtBytes)\n",
    "        fileNameLenght = sum(fileNameLenghtNode)\n",
    "        fileName = loadFileNameStructure(f.read(fileNameLenght).decode(\"utf-8\"))\n",
    "\n",
    "        dateLenghtBytes = f.read(4)\n",
    "        dateLenghtNode = unpack('i', dateLenghtBytes)\n",
    "        dateLenght = sum(dateLenghtNode)\n",
    "        date = f.read(dateLenght).decode(\"utf-8\")\n",
    "        \n",
    "        notesLenghtBytes = f.read(4)\n",
    "        notesLenghtNode = unpack('i', notesLenghtBytes)\n",
    "        notesLenght = sum(notesLenghtNode)\n",
    "        notes = f.read(notesLenght).decode(\"utf-8\")\n",
    "        f.read(16)\n",
    "        \n",
    "        dataPacketsLenghtBytes = f.read(4)\n",
    "        dataPacketsLenghtNode = unpack('i', dataPacketsLenghtBytes)\n",
    "        dataPacketsLenght = sum(dataPacketsLenghtNode)\n",
    "        dataPackets = []\n",
    "        for i in range(0, dataPacketsLenght):\n",
    "            dataPacket = loadDataPacketStructure(f.read(24))\n",
    "            dataPackets.append(dataPacket)\n",
    "    finally:\n",
    "        f.close()\n",
    "    mtbFile = Mtb(fileName, date, notes, dataPackets)\n",
    "    return mtbFile\n",
    "\n",
    "def loadDataPacketStructure(dataPacketBytes):\n",
    "    momentPomiaru = sum(unpack('i', dataPacketBytes[0:4]))\n",
    "    polozenieX = sum(unpack('i', dataPacketBytes[4:8]))\n",
    "    polozenieY = sum(unpack('i', dataPacketBytes[8:12]))\n",
    "    nacisk = sum(unpack('i', dataPacketBytes[12:16]))\n",
    "    szerokoscKatowa = sum(unpack('i', dataPacketBytes[16:20]))\n",
    "    wysokoscKatowa = sum(unpack('i', dataPacketBytes[20:24]))\n",
    "    return PakietDanych(momentPomiaru, polozenieX, polozenieY, nacisk, szerokoscKatowa, wysokoscKatowa)\n",
    "    \n",
    "\n",
    "def loadFileNameStructure(fileNameString):\n",
    "    lp = fileNameString[:fileNameString.find('_', 0)]\n",
    "    tmp = fileNameString.find('_', len(lp)+1)\n",
    "    idPacjenta = fileNameString[len(lp)+1:tmp]\n",
    "    nrOperacji = fileNameString[tmp+1]\n",
    "    badanie = fileNameString[tmp+2]\n",
    "    plec = fileNameString[tmp+3]\n",
    "    reka = fileNameString[tmp+4]\n",
    "    polkula = fileNameString[tmp+5]\n",
    "    zabieg = fileNameString[tmp+6]\n",
    "    return NazwaPliku(lp, idPacjenta, nrOperacji, badanie, plec, reka, polkula, zabieg)"
   ]
  },
  {
   "cell_type": "code",
   "execution_count": 14,
   "metadata": {
    "collapsed": false
   },
   "outputs": [],
   "source": [
    "class PakietDanych(object):\n",
    "    momentPomiaru = 0.0\n",
    "    polozenieX = 0.0\n",
    "    polozenieY = 0.0\n",
    "    nacisk = 0.0\n",
    "    szerokoscKatowa = 0.0\n",
    "    wysokoscKatowa = 0.0\n",
    "    \n",
    "    def __init__(self, momentPomiaru, polozenieX, polozenieY, nacisk, szerokoscKatowa, wysokoscKatowa):\n",
    "        self.momentPomiaru = momentPomiaru\n",
    "        self.polozenieX = polozenieX\n",
    "        self.polozenieY = polozenieY\n",
    "        self.nacisk = nacisk\n",
    "        self.szerokoscKatowa = szerokoscKatowa\n",
    "        self.wysokoscKatowa = wysokoscKatowa\n",
    "\n",
    "    \n",
    "class NazwaPliku(object):\n",
    "    lp = -1\n",
    "    idPacjenta = -1\n",
    "    nrOperacji = -1\n",
    "    badanie = -1\n",
    "    plec = ''\n",
    "    reka = ''\n",
    "    polkula = ''\n",
    "    zabieg = ''\n",
    "    \n",
    "    def __init__(self, lp, idPacjenta, nrOperacji, badanie, plec, reka, polkula, zabieg):\n",
    "        self.lp = lp\n",
    "        self.idPacjenta = idPacjenta\n",
    "        self.nrOperacji = nrOperacji\n",
    "        self.badanie = badanie\n",
    "        self.plec = plec\n",
    "        self.reka = reka\n",
    "        self.polkula = polkula\n",
    "        self.zabieg = zabieg\n",
    "        \n",
    "class Mtb(object):\n",
    "    nazwaPliku = object\n",
    "    data = ''\n",
    "    notatki = ''\n",
    "    pakietyDanych = []    \n",
    "    def __init__(self, nazwaPliku, data, notatki, pakietyDanych):\n",
    "        self.nazwaPliku = nazwaPliku\n",
    "        self.data = data\n",
    "        self.notatki = notatki\n",
    "        #self.pakietyDanych = mergeSort(pakietyDanych)\n",
    "        #self.pakietyDanych = pakietyDanych\n",
    "        pakietyDanych.sort(key=lambda x: x.momentPomiaru, reverse=False)\n",
    "\n",
    "        # To return a new list, use the sorted() built-in function...\n",
    "        self.pakietyDanych = sorted(pakietyDanych, key=lambda x: x.momentPomiaru, reverse=False)\n",
    "    def sortuj(self):\n",
    "        for i in range(0, len(self.pakietyDanych)):\n",
    "            flaga = False\n",
    "            for j in range(0, len(self.pakietyDanych)-1):\n",
    "                if self.pakietyDanych[j].momentPomiaru > self.pakietyDanych[j+1].momentPomiaru:\n",
    "                    self.pakietyDanych[j], self.pakietyDanych[j+1] = swap(self.pakietyDanych[j], self.pakietyDanych[j+1])\n",
    "                    flaga = True\n",
    "            if not flaga:\n",
    "                return\n",
    "            \n",
    "def swap(s1, s2):\n",
    "    return s2, s1"
   ]
  },
  {
   "cell_type": "code",
   "execution_count": 15,
   "metadata": {
    "collapsed": false
   },
   "outputs": [],
   "source": [
    "def getAllMtbFilesFrom(folderName):\n",
    "    mtbFiles = []\n",
    "    for name in os.listdir(folderName):\n",
    "        if name.endswith('.mtb') and os.path.isfile(folderName + '/' + name):\n",
    "            mtbFile = loadMtbFileStructure(folderName + '/' + name)\n",
    "            mtbFiles.append(mtbFile)\n",
    "        elif os.path.isdir(folderName + '/' + name):\n",
    "            mtbFiles += getAllMtbFilesFrom(folderName + '/' + name)\n",
    "    return mtbFiles"
   ]
  },
  {
   "cell_type": "code",
   "execution_count": 16,
   "metadata": {
    "collapsed": true
   },
   "outputs": [],
   "source": [
    "def getColorForPlot(nacisk, minValue):\n",
    "    #0 - wysoki nacisk\n",
    "    #1/3 - niski nacisk\n",
    "    #value przyjmuje wartosci 0-1023 (0 - niski nacisk, 1023 - wysoki nacisk)\n",
    "    #Jeśli nacisk jest mniejszy niż minimalny dopuszczalny, to uznajemy, że nie rysował\n",
    "    \n",
    "    if minValue >= nacisk:\n",
    "        return colorsys.hsv_to_rgb(0.0, 0.0, 0.0)\n",
    "    nacisk /= 1024\n",
    "    nacisk = 1 - nacisk\n",
    "    nacisk /= 3\n",
    "    return colorsys.hsv_to_rgb(nacisk, 1.0, 1.0)"
   ]
  },
  {
   "cell_type": "code",
   "execution_count": 44,
   "metadata": {
    "collapsed": false
   },
   "outputs": [
    {
     "name": "stdout",
     "output_type": "stream",
     "text": [
      "[<__main__.Mtb object at 0x118eeb8d0>, <__main__.Mtb object at 0x119589c50>, <__main__.Mtb object at 0x11998feb8>, <__main__.Mtb object at 0x11a750f98>, <__main__.Mtb object at 0x11b41bc50>, <__main__.Mtb object at 0x11c77bb38>, <__main__.Mtb object at 0x11ddf4ef0>, <__main__.Mtb object at 0x11e55feb8>, <__main__.Mtb object at 0x11e9267f0>, <__main__.Mtb object at 0x11f3f0a58>, <__main__.Mtb object at 0x120390e80>, <__main__.Mtb object at 0x120a89160>, <__main__.Mtb object at 0x121495b38>, <__main__.Mtb object at 0x121a3c7b8>, <__main__.Mtb object at 0x121fb0828>, <__main__.Mtb object at 0x1222c5a90>]\n"
     ]
    }
   ],
   "source": [
    "mtbFiles = getAllMtbFilesFrom('./dane')#/33100000000 (M)\n",
    "print(mtbFiles)"
   ]
  },
  {
   "cell_type": "code",
   "execution_count": 45,
   "metadata": {
    "collapsed": false,
    "scrolled": false
   },
   "outputs": [],
   "source": [
    "class Plot(object):\n",
    "    X = []\n",
    "    Y = []\n",
    "    naciskKolory = []\n",
    "    momentPomiaru = []\n",
    "    XAll = []\n",
    "    YAll = []\n",
    "    naciskKoloryAll = []\n",
    "    gruboscAll = []\n",
    "    momentPomiaruAll = []\n",
    "    def __init__(self, X, Y, naciskKolory, XAll, YAll, naciskKoloryAll, gruboscAll, momentPomiaru, momentPomiaruAll):\n",
    "        self.X = np.array(X)\n",
    "        self.Y = np.array(Y)\n",
    "        self.naciskKolory = np.array(naciskKolory)\n",
    "        self.XAll = np.array(XAll)\n",
    "        self.YAll = np.array(YAll)\n",
    "        self.naciskKoloryAll = np.array(naciskKoloryAll)\n",
    "        self.gruboscAll = np.array(gruboscAll)\n",
    "        self.momentPomiaru = np.array(momentPomiaru)\n",
    "        self.momentPomiaruAll = np.array(momentPomiaruAll)\n",
    "\n",
    "#X, Y, nacisk kolory, X(bez usuwania nacisku), Y(bez usuwania nacisku), nacisk kolory, grubosc kolory, moment pomiaru, moment pomiaru (bez usuwania nacisku)\n",
    "plot = [[],[],[],[],[],[],[], [], [],[],[]]\n",
    "plotObject = []\n",
    "minimalnyNacisk = 64\n",
    "for i in range(0, len(mtbFiles)):\n",
    "    plot[0].append([])\n",
    "    plot[1].append([])\n",
    "    plot[2].append([])\n",
    "    plot[3].append([])\n",
    "    plot[4].append([])\n",
    "    plot[5].append([])\n",
    "    plot[6].append([])\n",
    "    plot[7].append([])\n",
    "    plot[8].append([])\n",
    "    for j in range(0, len(mtbFiles[i].pakietyDanych)):\n",
    "        if mtbFiles[i].pakietyDanych[j].nacisk > minimalnyNacisk:\n",
    "            plot[0][i].append(mtbFiles[i].pakietyDanych[j].polozenieX)\n",
    "            plot[1][i].append(mtbFiles[i].pakietyDanych[j].polozenieY)\n",
    "            plot[2][i].append(getColorForPlot(mtbFiles[i].pakietyDanych[j].nacisk, minimalnyNacisk))\n",
    "            plot[6][i].append(1)\n",
    "            plot[7][i].append(mtbFiles[i].pakietyDanych[j].momentPomiaru)\n",
    "        else:\n",
    "            plot[6][i].append(0.03)\n",
    "        plot[3][i].append(mtbFiles[i].pakietyDanych[j].polozenieX)\n",
    "        plot[4][i].append(mtbFiles[i].pakietyDanych[j].polozenieY)\n",
    "        plot[5][i].append(getColorForPlot(mtbFiles[i].pakietyDanych[j].nacisk, minimalnyNacisk))\n",
    "        plot[8][i].append(mtbFiles[i].pakietyDanych[j].momentPomiaru)\n",
    "    plotObject.append(Plot(plot[0][i], plot[1][i], plot[2][i], plot[3][i], plot[4][i], plot[5][i], plot[6][i], plot[7][i], plot[8][i]))"
   ]
  },
  {
   "cell_type": "code",
   "execution_count": 59,
   "metadata": {
    "collapsed": false,
    "scrolled": true
   },
   "outputs": [
    {
     "data": {
      "image/png": "[encoded data removed]",
      "text/plain": [
       "<matplotlib.figure.Figure at 0x1118efeb8>"
      ]
     },
     "metadata": {},
     "output_type": "display_data"
    }
   ],
   "source": [
    "def findElementIn(array, elem):\n",
    "    for i in range(0, len(array)):\n",
    "        if array[i] >= elem:            \n",
    "            return i\n",
    "    return len(array)\n",
    "\n",
    "def plotSelect(i):\n",
    "    i = int(i)\n",
    "    def plotConfiguration(Show_All_Lines, pokaz_nacisk, timer):\n",
    "        if Show_All_Lines:\n",
    "            index = findElementIn(plotObject[i].momentPomiaruAll, int(timer[0])), findElementIn(plotObject[i].momentPomiaruAll, int(timer[1]))\n",
    "        else:\n",
    "            index = findElementIn(plotObject[i].momentPomiaru, int(timer[0])), findElementIn(plotObject[i].momentPomiaru, int(timer[1]))\n",
    "        axes = plt.gca()\n",
    "        axes.set_xlim([min(plotObject[i].XAll),max(plotObject[i].XAll)])\n",
    "        axes.set_ylim([min(plotObject[i].YAll),max(plotObject[i].YAll)])\n",
    "        \n",
    "        if Show_All_Lines and pokaz_nacisk:\n",
    "            plt.scatter(plotObject[i].XAll[index[0]:index[1]], plotObject[i].YAll[index[0]:index[1]], c=plotObject[i].naciskKoloryAll[index[0]:index[1]], s=plotObject[i].gruboscAll[index[0]:index[1]])\n",
    "        elif not Show_All_Lines and pokaz_nacisk:\n",
    "            plt.scatter(plotObject[i].X[index[0]:index[1]], plotObject[i].Y[index[0]:index[1]], c=plotObject[i].naciskKolory[index[0]:index[1]], s=np.linspace(0.5, 0.5, num=len(plotObject[i].X[index[0]:index[1]])))\n",
    "        elif Show_All_Lines and not pokaz_nacisk:\n",
    "            plt.scatter(plotObject[i].XAll[index[0]:index[1]], plotObject[i].YAll[index[0]:index[1]], s=plotObject[i].gruboscAll[index[0]:index[1]])\n",
    "        elif not Show_All_Lines and not pokaz_nacisk: \n",
    "            plt.scatter(plotObject[i].X[index[0]:index[1]], plotObject[i].Y[index[0]:index[1]], s=np.linspace(0.5, 0.5, num=len(plotObject[i].X[index[0]:index[1]])))\n",
    "        plt.show()\n",
    "    timerSlider = widgets.IntRangeSlider(min=0,max=plotObject[i].momentPomiaruAll[-1:][0],step=1,value=[0, plotObject[i].momentPomiaruAll[-1:][0]])\n",
    "    interact(plotConfiguration, Show_All_Lines=False, pokaz_nacisk=False, timer=timerSlider)\n",
    "\n",
    "interact(plotSelect, i=np.linspace(0, len(mtbFiles)-1, num=len(mtbFiles), dtype=int).tolist())"
   ]
  },
  {
   "cell_type": "code",
   "execution_count": 48,
   "metadata": {
    "collapsed": true
   },
   "outputs": [],
   "source": []
  },
  {
   "cell_type": "code",
   "execution_count": null,
   "metadata": {
    "collapsed": true
   },
   "outputs": [],
   "source": []
  }
 ],
 "metadata": {
  "kernelspec": {
   "display_name": "Python 3",
   "language": "python",
   "name": "python3"
  },
  "language_info": {
   "codemirror_mode": {
    "name": "ipython",
    "version": 3
   },
   "file_extension": ".py",
   "mimetype": "text/x-python",
   "name": "python",
   "nbconvert_exporter": "python",
   "pygments_lexer": "ipython3",
   "version": "3.6.0"
  },
  "widgets": {
   "state": {
    "0237ad6c0ff64b8092bddcede9ef77a7": {
     "views": [
      {
       "cell_index": 7
      }
     ]
    },
    "2f805fc7326e45549b8387d9665c07e1": {
     "views": [
      {
       "cell_index": 7
      }
     ]
    },
    "3411b8246422486fbb9689386d2b9166": {
     "views": [
      {
       "cell_index": 7
      }
     ]
    },
    "34ebdfefe8214f498c22557a459eb1eb": {
     "views": [
      {
       "cell_index": 7
      }
     ]
    },
    "3e77ed81eb624ad99faa0b43c459cd06": {
     "views": [
      {
       "cell_index": 7
      }
     ]
    },
    "493ab0bedfd54bcf94507c2d1fd615c0": {
     "views": [
      {
       "cell_index": 7
      }
     ]
    },
    "4f947b8ae8b34ea1afaae879306e53d8": {
     "views": [
      {
       "cell_index": 7
      }
     ]
    },
    "5fd20b6f53694747b63ffcdd601af603": {
     "views": [
      {
       "cell_index": 7
      }
     ]
    },
    "6a111e7863f34d958922fd7aaa4bc923": {
     "views": [
      {
       "cell_index": 7
      }
     ]
    },
    "71af4655203642899f801737de701542": {
     "views": [
      {
       "cell_index": 7
      }
     ]
    },
    "744da5eb86ab4a1cbbaa9d69a4da2851": {
     "views": [
      {
       "cell_index": 7
      }
     ]
    },
    "7fae26f6cb2a4a029c5740b04625c015": {
     "views": [
      {
       "cell_index": 7
      }
     ]
    },
    "9ae843f09d1c49d8acb83648f78f7db2": {
     "views": [
      {
       "cell_index": 7
      }
     ]
    },
    "9f00f38c6f5f43d4a4e90a531fd999f7": {
     "views": [
      {
       "cell_index": 7
      }
     ]
    },
    "acd1a803aebf466fae7a6bef6990deb6": {
     "views": [
      {
       "cell_index": 7
      }
     ]
    },
    "b4e343ab4d8742f3aa23cc7014c6eb5f": {
     "views": [
      {
       "cell_index": 7
      }
     ]
    },
    "c449bb9b191b4cab8968a53cfe8755ca": {
     "views": [
      {
       "cell_index": 7
      }
     ]
    },
    "c4a31773479c4b7d94918f7829fcad9d": {
     "views": [
      {
       "cell_index": 7
      }
     ]
    },
    "c54ace1a79544f03b8d2af57b0b390ca": {
     "views": [
      {
       "cell_index": 7
      }
     ]
    },
    "d018c090cad6461e85ff6cc6ddccbbf0": {
     "views": [
      {
       "cell_index": 7
      }
     ]
    },
    "d4124582e55e453684a06b55debcb37c": {
     "views": [
      {
       "cell_index": 7
      }
     ]
    },
    "dd3cc8999df94d9ca03c077f3ae730ac": {
     "views": [
      {
       "cell_index": 7
      }
     ]
    },
    "e18993ddb5024fa99bd4bd8c31f1605b": {
     "views": [
      {
       "cell_index": 7
      }
     ]
    },
    "e417a617324243fb946dead63da48e23": {
     "views": [
      {
       "cell_index": 7
      }
     ]
    },
    "ef769e8c082748148a777ab3f908aaec": {
     "views": [
      {
       "cell_index": 7
      }
     ]
    }
   },
   "version": "1.2.0"
  }
 },
 "nbformat": 4,
 "nbformat_minor": 2
}
