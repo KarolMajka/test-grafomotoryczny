{
 "cells": [
  {
   "cell_type": "code",
   "execution_count": 100,
   "metadata": {
    "collapsed": false
   },
   "outputs": [],
   "source": [
    "import numpy\n",
    "import os\n",
    "from struct import unpack\n",
    "import matplotlib.pyplot\n",
    "import numpy as np\n",
    "import colorsys"
   ]
  },
  {
   "cell_type": "code",
   "execution_count": 82,
   "metadata": {
    "collapsed": false
   },
   "outputs": [],
   "source": [
    "def loadMtbFileStructure(fileName):\n",
    "    f = open(fileName, \"rb\")\n",
    "    try:\n",
    "        fileNameLenghtBytes = f.read(4)  \n",
    "        fileNameLenghtNode = unpack('i', fileNameLenghtBytes)\n",
    "        fileNameLenght = sum(fileNameLenghtNode)\n",
    "        fileName = loadFileNameStructure(f.read(fileNameLenght).decode(\"utf-8\"))\n",
    "\n",
    "        dateLenghtBytes = f.read(4)\n",
    "        dateLenghtNode = unpack('i', dateLenghtBytes)\n",
    "        dateLenght = sum(dateLenghtNode)\n",
    "        date = f.read(dateLenght).decode(\"utf-8\")\n",
    "        \n",
    "        notesLenghtBytes = f.read(4)\n",
    "        notesLenghtNode = unpack('i', notesLenghtBytes)\n",
    "        notesLenght = sum(notesLenghtNode)\n",
    "        notes = f.read(notesLenght).decode(\"utf-8\")\n",
    "        f.read(16)\n",
    "        \n",
    "        dataPacketsLenghtBytes = f.read(4)\n",
    "        dataPacketsLenghtNode = unpack('i', dataPacketsLenghtBytes)\n",
    "        dataPacketsLenght = sum(dataPacketsLenghtNode)\n",
    "        dataPackets = []\n",
    "        for i in range(0, dataPacketsLenght):\n",
    "            dataPacket = loadDataPacketStructure(f.read(24))\n",
    "            dataPackets.append(dataPacket)\n",
    "    finally:\n",
    "        f.close()\n",
    "    mtbFile = Mtb(fileName, date, notes, dataPackets)\n",
    "    return mtbFile\n",
    "\n",
    "def loadDataPacketStructure(dataPacketBytes):\n",
    "    momentPomiaru = sum(unpack('i', dataPacketBytes[0:4]))\n",
    "    polozenieX = sum(unpack('i', dataPacketBytes[4:8]))\n",
    "    polozenieY = sum(unpack('i', dataPacketBytes[8:12]))\n",
    "    nacisk = sum(unpack('i', dataPacketBytes[12:16]))\n",
    "    szerokoscKatowa = sum(unpack('i', dataPacketBytes[16:20]))\n",
    "    wysokoscKatowa = sum(unpack('i', dataPacketBytes[20:24]))\n",
    "    return PakietDanych(momentPomiaru, polozenieX, polozenieY, nacisk, szerokoscKatowa, wysokoscKatowa)\n",
    "    \n",
    "\n",
    "def loadFileNameStructure(fileNameString):\n",
    "    lp = fileNameString[:fileNameString.find('_', 0)]\n",
    "    tmp = fileNameString.find('_', len(lp)+1)\n",
    "    idPacjenta = fileNameString[len(lp)+1:tmp]\n",
    "    nrOperacji = fileNameString[tmp+1]\n",
    "    badanie = fileNameString[tmp+2]\n",
    "    plec = fileNameString[tmp+3]\n",
    "    reka = fileNameString[tmp+4]\n",
    "    polkula = fileNameString[tmp+5]\n",
    "    zabieg = fileNameString[tmp+6]\n",
    "    return NazwaPliku(lp, idPacjenta, nrOperacji, badanie, plec, reka, polkula, zabieg)"
   ]
  },
  {
   "cell_type": "code",
   "execution_count": 143,
   "metadata": {
    "collapsed": false
   },
   "outputs": [],
   "source": [
    "class PakietDanych(object):\n",
    "    momentPomiaru = 0.0\n",
    "    polozenieX = 0.0\n",
    "    polozenieY = 0.0\n",
    "    nacisk = 0.0\n",
    "    szerokoscKatowa = 0.0\n",
    "    wysokoscKatowa = 0.0\n",
    "    \n",
    "    def __init__(self, momentPomiaru, polozenieX, polozenieY, nacisk, szerokoscKatowa, wysokoscKatowa):\n",
    "        self.momentPomiaru = momentPomiaru\n",
    "        self.polozenieX = polozenieX\n",
    "        self.polozenieY = polozenieY\n",
    "        self.nacisk = nacisk\n",
    "        self.szerokoscKatowa = szerokoscKatowa\n",
    "        self.wysokoscKatowa = wysokoscKatowa\n",
    "        \n",
    "class NazwaPliku(object):\n",
    "    lp = -1\n",
    "    idPacjenta = -1\n",
    "    nrOperacji = -1\n",
    "    badanie = -1\n",
    "    plec = ''\n",
    "    reka = ''\n",
    "    polkula = ''\n",
    "    zabieg = ''\n",
    "    \n",
    "    def __init__(self, lp, idPacjenta, nrOperacji, badanie, plec, reka, polkula, zabieg):\n",
    "        self.lp = lp\n",
    "        self.idPacjenta = idPacjenta\n",
    "        self.nrOperacji = nrOperacji\n",
    "        self.badanie = badanie\n",
    "        self.plec = plec\n",
    "        self.reka = reka\n",
    "        self.polkula = polkula\n",
    "        self.zabieg = zabieg\n",
    "\n",
    "        \n",
    "class Mtb(object):\n",
    "    nazwaPliku = object\n",
    "    data = ''\n",
    "    notatki = ''\n",
    "    pakietyDanych = []    \n",
    "    def __init__(self, nazwaPliku, data, notatki, pakietyDanych):\n",
    "        self.nazwaPliku = nazwaPliku\n",
    "        self.data = data\n",
    "        self.notatki = notatki\n",
    "        self.pakietyDanych = pakietyDanych"
   ]
  },
  {
   "cell_type": "code",
   "execution_count": 84,
   "metadata": {
    "collapsed": false
   },
   "outputs": [],
   "source": [
    "def getAllMtbFilesFrom(folderName):\n",
    "    mtbFiles = []\n",
    "    for name in os.listdir(folderName):\n",
    "        if name.endswith('.mtb'):\n",
    "            mtbFile = loadMtbFileStructure(folderName + '/' + name)\n",
    "            mtbFiles.append(mtbFile)\n",
    "        elif os.path.isdir(folderName + '/' + name):\n",
    "            mtbFiles += getAllMtbFilesFrom(folderName + '/' + name)\n",
    "    return mtbFiles"
   ]
  },
  {
   "cell_type": "code",
   "execution_count": null,
   "metadata": {
    "collapsed": true
   },
   "outputs": [],
   "source": [
    "def getColorForPlot(value):\n",
    "    #value from 1/3 to 0\n",
    "    #0 - hight speed\n",
    "    #1/3 - low speed\n",
    "    #nacisk - value 0-1023 (=1023 -> color=0) \n",
    "    value /= 1024\n",
    "    value = 1 - value\n",
    "    value /= 3\n",
    "    return colorsys.hsv_to_rgb(value, 1.0, 1.0)\n",
    "    return '#FFFF00'"
   ]
  },
  {
   "cell_type": "code",
   "execution_count": 148,
   "metadata": {
    "collapsed": false
   },
   "outputs": [
    {
     "name": "stdout",
     "output_type": "stream",
     "text": [
      "[<__main__.Mtb object at 0x108a843c8>, <__main__.Mtb object at 0x1104ab748>, <__main__.Mtb object at 0x117efb9b0>, <__main__.Mtb object at 0x120d9fa90>, <__main__.Mtb object at 0x120eb4748>, <__main__.Mtb object at 0x110337630>, <__main__.Mtb object at 0x113d0cb00>, <__main__.Mtb object at 0x10ffbfac8>, <__main__.Mtb object at 0x113423400>, <__main__.Mtb object at 0x1212b8668>, <__main__.Mtb object at 0x111f46a90>, <__main__.Mtb object at 0x124026d30>, <__main__.Mtb object at 0x11c350748>, <__main__.Mtb object at 0x10b6113c8>, <__main__.Mtb object at 0x118154438>, <__main__.Mtb object at 0x11bbc56a0>]\n"
     ]
    }
   ],
   "source": [
    "mtbFiles = getAllMtbFilesFrom('./dane')#/33100000000 (M)\n",
    "print(mtbFiles)"
   ]
  },
  {
   "cell_type": "code",
   "execution_count": null,
   "metadata": {
    "collapsed": false,
    "scrolled": false
   },
   "outputs": [],
   "source": [
    "polozeniaX = []\n",
    "polozeniaY = []\n",
    "colorsNacisk = []\n",
    "for i in range(0, len(mtbFiles)):\n",
    "    polozeniaX.append([])\n",
    "    polozeniaY.append([])\n",
    "    colorsNacisk.append([])\n",
    "    for j in range(0, len(mtbFiles[i].pakietyDanych)):\n",
    "        if mtbFiles[i].pakietyDanych[j].nacisk > 0:\n",
    "            polozeniaX[i].append(mtbFiles[i].pakietyDanych[j].polozenieX)\n",
    "            polozeniaY[i].append(mtbFiles[i].pakietyDanych[j].polozenieY)\n",
    "            colorsNacisk[i].append(getColorForPlot(mtbFiles[i].pakietyDanych[j].nacisk))"
   ]
  },
  {
   "cell_type": "code",
   "execution_count": null,
   "metadata": {
    "collapsed": false,
    "scrolled": false
   },
   "outputs": [],
   "source": [
    "for i in range(0, len(polozeniaX)):\n",
    "    linspace = np.linspace(1.0, 1.0, num=len(polozeniaX[i]))\n",
    "    matplotlib.pyplot.scatter(polozeniaX[i], polozeniaY[i], c=colorsNacisk[i], s=linspace)\n",
    "    matplotlib.pyplot.show()"
   ]
  },
  {
   "cell_type": "code",
   "execution_count": null,
   "metadata": {
    "collapsed": true
   },
   "outputs": [],
   "source": []
  },
  {
   "cell_type": "code",
   "execution_count": null,
   "metadata": {
    "collapsed": true
   },
   "outputs": [],
   "source": []
  }
 ],
 "metadata": {
  "kernelspec": {
   "display_name": "Python 3",
   "language": "python",
   "name": "python3"
  },
  "language_info": {
   "codemirror_mode": {
    "name": "ipython",
    "version": 3
   },
   "file_extension": ".py",
   "mimetype": "text/x-python",
   "name": "python",
   "nbconvert_exporter": "python",
   "pygments_lexer": "ipython3",
   "version": "3.6.0"
  }
 },
 "nbformat": 4,
 "nbformat_minor": 2
}
